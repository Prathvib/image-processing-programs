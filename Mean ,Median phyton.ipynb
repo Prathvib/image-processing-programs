{
 "cells": [
  {
   "cell_type": "code",
   "execution_count": null,
   "id": "04eb397f",
   "metadata": {},
   "outputs": [],
   "source": [
    "# import statistics\n",
    "# initializing list\n",
    "li = [1, 2, 3, 3, 2, 2, 2, 1]\n",
    "# using mean() to calculate average of list\n",
    "# elements\n",
    "print (\"The average of list values is : \",end=\"\")\n",
    "print (statistics.mean(li))"
   ]
  },
  {
   "cell_type": "code",
   "execution_count": null,
   "id": "b4a42eb4",
   "metadata": {},
   "outputs": [],
   "source": [
    "from statistics import median\n",
    "from fractions import Fraction as fr\n",
    "data1 = (2, 3, 4, 5, 7, 9, 11)\n",
    "# tuple of floating point values\n",
    "data2 = (2.4, 5.1, 6.7, 8.9)\n",
    "# tuple of fractional numbers\n",
    "data3 = (fr(1, 2), fr(44, 12), fr(10, 3), fr(2, 3))\n",
    "data4 = (-5, -1, -12, -19, -3)\n",
    "data5 = (-1, -2, -3, -4, 4, 3, 2, 1)\n",
    "# Printing the median of above datasets\n",
    "print(\"Median of data-set 1 is % s\" % (median(data1)))\n",
    "print(\"Median of data-set 2 is % s\" % (median(data2)))\n",
    "print(\"Median of data-set 3 is % s\" % (median(data3)))\n",
    "print(\"Median of data-set 4 is % s\" % (median(data4)))\n",
    "print(\"Median of data-set 5 is % s\" % (median(data5)))"
   ]
  },
  {
   "cell_type": "code",
   "execution_count": null,
   "id": "4a584b69",
   "metadata": {},
   "outputs": [],
   "source": [
    "from statistics import mode\n",
    "from fractions import Fraction as fr\n",
    "# tuple of positive integer numbers\n",
    "data1 = (2, 3, 3, 4, 5, 5, 5, 5, 6, 6, 6, 7)\n",
    "# tuple of a set of floating point values\n",
    "data2 = (2.4, 1.3, 1.3, 1.3, 2.4, 4.6)\n",
    "# tuple of a set of fractional numbers\n",
    "data3 = (fr(1, 2), fr(1, 2), fr(10, 3), fr(2, 3))\n",
    "# tuple of a set of negative integers\n",
    "data4 = (-1, -2, -2, -2, -7, -7, -9)\n",
    "# tuple of strings\n",
    "data5 = (\"red\", \"blue\", \"black\", \"blue\", \"black\", \"black\", \"brown\")\n",
    "# Printing out the mode of the above data-sets\n",
    "print(\"Mode of data set 1 is % s\" % (mode(data1)))\n",
    "print(\"Mode of data set 2 is % s\" % (mode(data2)))\n",
    "print(\"Mode of data set 3 is % s\" % (mode(data3)))\n",
    "print(\"Mode of data set 4 is % s\" % (mode(data4)))\n",
    "print(\"Mode of data set 5 is % s\" % (mode(data5)))"
   ]
  },
  {
   "cell_type": "code",
   "execution_count": null,
   "id": "0fea6b3d",
   "metadata": {},
   "outputs": [],
   "source": [
    "# Sample Data\n",
    "arr = [1, 2, 3, 4, 5]\n",
    "#Finding Max\n",
    "Maximum = max(arr)\n",
    "# Finding Min\n",
    "Minimum = min(arr)\n",
    "# Difference Of Max and Min\n",
    "Range = Maximum-Minimum\n",
    "print(\"Maximum = {}, Minimum = {} and Range = {}\".format(\n",
    "Maximum, Minimum, Range))"
   ]
  },
  {
   "cell_type": "code",
   "execution_count": null,
   "id": "a26f1955",
   "metadata": {},
   "outputs": [],
   "source": [
    "# Python code to demonstrate variance()\n",
    "# function on varying range of data-types\n",
    "# importing statistics module\n",
    "from statistics import variance\n",
    "# importing fractions as parameter values\n",
    "from fractions import Fraction as fr\n",
    "# tuple of a set of positive integers\n",
    "# numbers are spread apart but not very much\n",
    "sample1 = (1, 2, 5, 4, 8, 9, 12)\n",
    "# tuple of a set of negative integers\n",
    "sample2 = (-2, -4, -3, -1, -5, -6)\n",
    "# tuple of a set of positive and negative numbers\n",
    "# data-points are spread apart considerably\n",
    "sample3 = (-9, -1, -0, 2, 1, 3, 4, 19)\n",
    "# tuple of a set of fractional numbers\n",
    "sample4 = (fr(1, 2), fr(2, 3), fr(3, 4),\n",
    "fr(5, 6), fr(7, 8))\n",
    "# tuple of a set of floating point values\n",
    "sample5 = (1.23, 1.45, 2.1, 2.2, 1.9)\n",
    "# Print the variance of each samples\n",
    "print(\"Variance of Sample1 is % s \" % (variance(sample1)))\n",
    "print(\"Variance of Sample2 is % s \" % (variance(sample2)))\n",
    "print(\"Variance of Sample3 is % s \" % (variance(sample3)))\n",
    "print(\"Variance of Sample4 is % s \" % (variance(sample4)))\n",
    "print(\"Variance of Sample5 is % s \" % (variance(sample5)))"
   ]
  },
  {
   "cell_type": "code",
   "execution_count": 2,
   "id": "ab5523b2",
   "metadata": {},
   "outputs": [
    {
     "name": "stdout",
     "output_type": "stream",
     "text": [
      "The Standard Deviation of Sample1 is 3.9761191895520196\n",
      "The Standard Deviation of Sample2 is 1.8708286933869707\n",
      "The Standard Deviation of Sample3 is 7.8182478855559445\n",
      "The Standard Deviation of Sample4 is 0.41967844833872525\n"
     ]
    }
   ],
   "source": [
    "from statistics import stdev\n",
    "# importing fractions as parameter values\n",
    "from fractions import Fraction as fr\n",
    "# creating a varying range of sample sets\n",
    "# numbers are spread apart but not very much\n",
    "sample1 = (1, 2, 5, 4, 8, 9, 12)\n",
    "# tuple of a set of negative integers\n",
    "sample2 = (-2, -4, -3, -1, -5, -6)\n",
    "# tuple of a set of positive and negative numbers\n",
    "# data-points are spread apart considerably\n",
    "sample3 = (-9, -1, -0, 2, 1, 3, 4, 19)\n",
    "# tuple of a set of floating point values\n",
    "sample4 = (1.23, 1.45, 2.1, 2.2, 1.9)\n",
    "# Print the standard deviation of\n",
    "# following sample sets of observations\n",
    "print(\"The Standard Deviation of Sample1 is % s\"\n",
    "% (stdev(sample1)))\n",
    "print(\"The Standard Deviation of Sample2 is % s\"\n",
    "% (stdev(sample2)))\n",
    "print(\"The Standard Deviation of Sample3 is % s\"\n",
    "% (stdev(sample3)))\n",
    "print(\"The Standard Deviation of Sample4 is % s\"\n",
    "% (stdev(sample4)))"
   ]
  },
  {
   "cell_type": "code",
   "execution_count": 6,
   "id": "d75adec0",
   "metadata": {},
   "outputs": [
    {
     "name": "stdout",
     "output_type": "stream",
     "text": [
      "DescribeResult(nobs=5, minmax=(1, 5), mean=3.0, variance=2.5, skewness=0.0, kurtosis=-1.2000000000000004)\n"
     ]
    }
   ],
   "source": [
    "import scipy\n",
    "from scipy import stats\n",
    "y=[1,2,3,4,5]\n",
    "result = scipy.stats.describe(y, ddof=1, bias=False)\n",
    "print(result)\n"
   ]
  },
  {
   "cell_type": "code",
   "execution_count": 7,
   "id": "1475a375",
   "metadata": {},
   "outputs": [
    {
     "data": {
      "text/plain": [
       "5"
      ]
     },
     "execution_count": 7,
     "metadata": {},
     "output_type": "execute_result"
    }
   ],
   "source": [
    ">>> result.nobs"
   ]
  },
  {
   "cell_type": "code",
   "execution_count": 8,
   "id": "ca147a56",
   "metadata": {},
   "outputs": [
    {
     "data": {
      "text/plain": [
       "1"
      ]
     },
     "execution_count": 8,
     "metadata": {},
     "output_type": "execute_result"
    }
   ],
   "source": [
    ">>> result.minmax[0] # Min"
   ]
  },
  {
   "cell_type": "code",
   "execution_count": 9,
   "id": "19836159",
   "metadata": {},
   "outputs": [
    {
     "data": {
      "text/plain": [
       "3.0"
      ]
     },
     "execution_count": 9,
     "metadata": {},
     "output_type": "execute_result"
    }
   ],
   "source": [
    ">>> result.mean"
   ]
  },
  {
   "cell_type": "code",
   "execution_count": 10,
   "id": "ee5c130d",
   "metadata": {},
   "outputs": [
    {
     "data": {
      "text/plain": [
       "2.5"
      ]
     },
     "execution_count": 10,
     "metadata": {},
     "output_type": "execute_result"
    }
   ],
   "source": [
    ">>> result.variance"
   ]
  },
  {
   "cell_type": "code",
   "execution_count": 11,
   "id": "7f4e615c",
   "metadata": {},
   "outputs": [
    {
     "data": {
      "text/plain": [
       "0.0"
      ]
     },
     "execution_count": 11,
     "metadata": {},
     "output_type": "execute_result"
    }
   ],
   "source": [
    ">>> result.skewness"
   ]
  },
  {
   "cell_type": "code",
   "execution_count": 12,
   "id": "ebf4fe11",
   "metadata": {},
   "outputs": [
    {
     "data": {
      "text/plain": [
       "-1.2000000000000004"
      ]
     },
     "execution_count": 12,
     "metadata": {},
     "output_type": "execute_result"
    }
   ],
   "source": [
    ">>> result.kurtosis\n"
   ]
  },
  {
   "cell_type": "code",
   "execution_count": 28,
   "id": "4695a27b",
   "metadata": {},
   "outputs": [
    {
     "name": "stdout",
     "output_type": "stream",
     "text": [
      "              0\n",
      "count  5.000000\n",
      "mean   3.000000\n",
      "std    1.581139\n",
      "min    1.000000\n",
      "25%    2.000000\n",
      "50%    3.000000\n",
      "75%    4.000000\n",
      "max    5.000000\n"
     ]
    }
   ],
   "source": [
    "import pandas as pd\n",
    "z=[1,2,3,4,5]\n",
    "df=pd.DataFrame(z)\n",
    "result = df.describe()\n",
    "print(result)\n",
    "\n"
   ]
  },
  {
   "cell_type": "code",
   "execution_count": 30,
   "id": "674ba7e6",
   "metadata": {},
   "outputs": [
    {
     "data": {
      "text/plain": [
       "0    3.0\n",
       "Name: mean, dtype: float64"
      ]
     },
     "execution_count": 30,
     "metadata": {},
     "output_type": "execute_result"
    }
   ],
   "source": [
    ">>> result.loc['mean']"
   ]
  },
  {
   "cell_type": "code",
   "execution_count": 32,
   "id": "c6db93cb",
   "metadata": {},
   "outputs": [
    {
     "data": {
      "text/plain": [
       "0    1.581139\n",
       "Name: std, dtype: float64"
      ]
     },
     "execution_count": 32,
     "metadata": {},
     "output_type": "execute_result"
    }
   ],
   "source": [
    ">>> result.loc['std']\n"
   ]
  },
  {
   "cell_type": "code",
   "execution_count": 33,
   "id": "5c94938f",
   "metadata": {},
   "outputs": [
    {
     "data": {
      "text/plain": [
       "0    1.0\n",
       "Name: min, dtype: float64"
      ]
     },
     "execution_count": 33,
     "metadata": {},
     "output_type": "execute_result"
    }
   ],
   "source": [
    ">>> result.loc['min']"
   ]
  },
  {
   "cell_type": "code",
   "execution_count": 34,
   "id": "95dd0c68",
   "metadata": {},
   "outputs": [
    {
     "data": {
      "text/plain": [
       "0    5.0\n",
       "Name: max, dtype: float64"
      ]
     },
     "execution_count": 34,
     "metadata": {},
     "output_type": "execute_result"
    }
   ],
   "source": [
    ">>> result.loc['max']"
   ]
  },
  {
   "cell_type": "code",
   "execution_count": 35,
   "id": "603e2b1f",
   "metadata": {},
   "outputs": [
    {
     "data": {
      "text/plain": [
       "0    2.0\n",
       "Name: 25%, dtype: float64"
      ]
     },
     "execution_count": 35,
     "metadata": {},
     "output_type": "execute_result"
    }
   ],
   "source": [
    ">>> result.loc['25%']"
   ]
  },
  {
   "cell_type": "code",
   "execution_count": 36,
   "id": "cd43dc98",
   "metadata": {},
   "outputs": [
    {
     "data": {
      "text/plain": [
       "0    3.0\n",
       "Name: 50%, dtype: float64"
      ]
     },
     "execution_count": 36,
     "metadata": {},
     "output_type": "execute_result"
    }
   ],
   "source": [
    ">>> result.loc['50%']"
   ]
  },
  {
   "cell_type": "code",
   "execution_count": 37,
   "id": "03d1a81d",
   "metadata": {},
   "outputs": [
    {
     "data": {
      "text/plain": [
       "0    4.0\n",
       "Name: 75%, dtype: float64"
      ]
     },
     "execution_count": 37,
     "metadata": {},
     "output_type": "execute_result"
    }
   ],
   "source": [
    ">>> result.loc['75%']\n"
   ]
  },
  {
   "cell_type": "code",
   "execution_count": 4,
   "id": "23a8dca9",
   "metadata": {},
   "outputs": [
    {
     "data": {
      "text/plain": [
       "0      0\n",
       "1      2\n",
       "2      2\n",
       "3      2\n",
       "4      2\n",
       "5      3\n",
       "6      3\n",
       "7      6\n",
       "8      7\n",
       "9      4\n",
       "10     7\n",
       "11     6\n",
       "12     6\n",
       "13     9\n",
       "14     4\n",
       "15     5\n",
       "16     5\n",
       "17    10\n",
       "18    11\n",
       "19    12\n",
       "20    14\n",
       "dtype: int32"
      ]
     },
     "execution_count": 4,
     "metadata": {},
     "output_type": "execute_result"
    }
   ],
   "source": [
    "import numpy as np\n",
    "import pandas as pd\n",
    "x = list(range(-10, 11))\n",
    "y = [0, 2, 2, 2, 2, 3, 3, 6, 7, 4, 7, 6, 6, 9, 4,\n",
    "5, 5, 10, 11, 12, 14]\n",
    "x_, y_ = np.array(x), np.array(y)\n",
    "x__, y__ =pd.Series(x_), pd.Series(y_)\n",
    "x__\n",
    "y__"
   ]
  },
  {
   "cell_type": "code",
   "execution_count": 5,
   "id": "55779dbe",
   "metadata": {},
   "outputs": [
    {
     "data": {
      "text/plain": [
       "19.95"
      ]
     },
     "execution_count": 5,
     "metadata": {},
     "output_type": "execute_result"
    }
   ],
   "source": [
    "n = len(x)\n",
    "mean_x, mean_y = sum(x) / n, sum(y) / n\n",
    "cov_xy = (sum((x[k] - mean_x) * (y[k] - mean_y) for k in range(n))/ (n - 1))\n",
    "cov_xy"
   ]
  },
  {
   "cell_type": "code",
   "execution_count": 7,
   "id": "f1c1406c",
   "metadata": {},
   "outputs": [
    {
     "data": {
      "text/plain": [
       "array([[38.5       , 19.95      ],\n",
       "       [19.95      , 13.91428571]])"
      ]
     },
     "execution_count": 7,
     "metadata": {},
     "output_type": "execute_result"
    }
   ],
   "source": [
    "cov_matrix = np.cov(x_, y_)\n",
    "cov_matrix"
   ]
  },
  {
   "cell_type": "code",
   "execution_count": null,
   "id": "c4737dc7",
   "metadata": {},
   "outputs": [],
   "source": []
  },
  {
   "cell_type": "code",
   "execution_count": null,
   "id": "ec34c4a7",
   "metadata": {},
   "outputs": [],
   "source": []
  },
  {
   "cell_type": "code",
   "execution_count": null,
   "id": "8ba45ea3",
   "metadata": {},
   "outputs": [],
   "source": []
  },
  {
   "cell_type": "code",
   "execution_count": null,
   "id": "b247130c",
   "metadata": {},
   "outputs": [],
   "source": []
  }
 ],
 "metadata": {
  "kernelspec": {
   "display_name": "Python 3 (ipykernel)",
   "language": "python",
   "name": "python3"
  },
  "language_info": {
   "codemirror_mode": {
    "name": "ipython",
    "version": 3
   },
   "file_extension": ".py",
   "mimetype": "text/x-python",
   "name": "python",
   "nbconvert_exporter": "python",
   "pygments_lexer": "ipython3",
   "version": "3.9.7"
  }
 },
 "nbformat": 4,
 "nbformat_minor": 5
}
